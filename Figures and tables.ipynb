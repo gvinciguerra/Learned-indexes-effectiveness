{
 "cells": [
  {
   "cell_type": "markdown",
   "metadata": {},
   "source": [
    "# Why are learned indexes so effective?\n",
    "\n",
    "This notebook can be used to reproduce the figures and the tables in the papers\n",
    "\n",
    "> Paolo Ferragina, Fabrizio Lillo, and Giorgio Vinciguerra. _On the performance of learned data structures_. Theoretical Computer Science, 2021.\n",
    "\n",
    "> Paolo Ferragina, Fabrizio Lillo, and Giorgio Vinciguerra. _Why are learned indexes so effective?_. In Proceedings of the 37th International Conference on Machine Learning (ICML). PMLR, 2020.\n"
   ]
  },
  {
   "cell_type": "code",
   "execution_count": null,
   "metadata": {},
   "outputs": [],
   "source": [
    "!pip install matplotlib>=3.0.3\n",
    "!pip install tikzplotlib==0.9.0"
   ]
  },
  {
   "cell_type": "code",
   "execution_count": null,
   "metadata": {},
   "outputs": [],
   "source": [
    "import os\n",
    "import numpy as np\n",
    "import pandas as pd\n",
    "import matplotlib\n",
    "import tikzplotlib\n",
    "import matplotlib.pyplot as plt"
   ]
  },
  {
   "cell_type": "markdown",
   "metadata": {},
   "source": [
    "# Figure 3\n",
    "\n",
    "The following two cells generate Figure 3 of the paper, containing theoretical and empirical mean exit times for several distributions and algorithms. The script to generate the raw data is `run_main.sh`."
   ]
  },
  {
   "cell_type": "code",
   "execution_count": null,
   "metadata": {},
   "outputs": [],
   "source": [
    "path = './results/'\n",
    "files = ['uniform_0_1_met3.csv', 'uniform_0_10_met3.csv', 'uniform_10_100_met4.481.csv',\n",
    "         'pareto_scale2_shape2.5_met1.25.csv', 'pareto_scale3_shape3_met3.csv', 'pareto_scale4_shape3.5_met5.25.csv',\n",
    "         'lognormal_m1_s1_met0.582.csv', 'lognormal_m1_s0.75_met1.324.csv', 'lognormal_m1_s0.5_met3.521.csv',\n",
    "         'gamma_scale1_shape1_met1.csv', 'gamma_scale3_shape2_met2.csv', 'gamma_scale6_shape3_met3.csv']\n",
    "dfs = [(f, pd.read_csv(path + f, comment='#')) for f in files]\n",
    "\n",
    "def label_params(l):\n",
    "    if l[0] == 'uniform':\n",
    "        return 'Uniform $a=%s,b=%s$' % (l[1], l[2])\n",
    "    if l[0] == 'pareto':\n",
    "        return 'Pareto $k=%s,\\\\alpha=%s$' % (l[1][5:], l[2][5:])\n",
    "    if l[0] == 'lognormal':\n",
    "        return 'Lognormal $\\\\mu=%s,\\\\sigma=%s$' % (l[1][1:], l[2][1:])\n",
    "    if l[0] == 'gamma':\n",
    "        return 'Gamma $\\\\theta=%s,k=%s$' % (l[1][5:], l[2][5:])"
   ]
  },
  {
   "cell_type": "code",
   "execution_count": null,
   "metadata": {
    "scrolled": false
   },
   "outputs": [],
   "source": [
    "_, axes = plt.subplots(nrows=4, ncols=3, sharex=True, sharey='row', figsize=(3 * 6.75, 3.4 * 6.75))\n",
    "\n",
    "for i, (f, d), ax in zip(range(len(dfs)), dfs, axes.flatten()):\n",
    "    if not f.startswith(('uniform', 'pareto', 'lognormal', 'exponential', 'gamma')):\n",
    "        continue\n",
    "    \n",
    "    step = 2\n",
    "    x = d.epsilon[::step]\n",
    "    \n",
    "    fmt = {'markersize': 1}\n",
    "    ax.plot(x, d.opt_avg[::step], '.C2', **fmt, label='OPT')\n",
    "    ax.plot(x, d.met_avg[::step], '.C3',**fmt, label='MET')\n",
    "    \n",
    "    fmt = {'linestyle': (0, (5, 1)), 'alpha': 0.3}\n",
    "    ax.fill_between(x, d.opt_avg[::step]-d.opt_std[::step], d.opt_avg[::step]+d.opt_std[::step], **fmt, facecolor='C2')\n",
    "    ax.fill_between(x, d.met_avg[::step]-d.met_std[::step], d.met_avg[::step]+d.met_std[::step], **fmt, facecolor='C3')\n",
    "    \n",
    "    met_constant = float(f.split('_')[-1][3:-4])\n",
    "    met = met_constant * d.epsilon ** 2\n",
    "    ax.plot(x, met[::step], 'k-', label=r'Thm 1 ($%s\\varepsilon^2$)' % met_constant, linewidth=0.5)\n",
    "    ax.plot(x, met[::step] * (1 + np.sqrt(2/3)), 'k--', label='_nolegend_', linewidth=0.5)\n",
    "    ax.plot(x, met[::step] * (1 - np.sqrt(2/3)), 'k--', label='_nolegend_', linewidth=0.5)\n",
    "    \n",
    "    if i % 3 == 0: ax.set_ylabel('Mean segment length $\\\\cdot 10^6$')\n",
    "    if i > 8: ax.set_xlabel(r'$\\varepsilon$')\n",
    "    ax.set_xlim(-5, 261)\n",
    "    ax.legend(loc='upper left')\n",
    "    ax.set_title(label_params(f.split('_')[0:3]))\n",
    "    ax.ticklabel_format(style='sci', axis='y', scilimits=(0,0))\n",
    "\n",
    "tikz = tikzplotlib.get_tikz_code(\n",
    "    figurewidth='2.46375in',\n",
    "    figureheight='2.13in',\n",
    "    standalone=True,\n",
    "    float_format='{:.4f}',\n",
    "    extra_tikzpicture_parameters=['/pgfplots/group/.cd', 'xlabels at=edge bottom', 'ylabels at=edge left', 'yticklabels at=edge left', 'vertical sep=36pt', 'horizontal sep=12pt', 'xticklabels at=edge bottom', '/pgfplots/.cd', 'legend image post style={mark size=1.5pt}', 'ytick scale label code/.code={}'],\n",
    "    extra_axis_parameters=['xtick={0,50,...,250}', 'tick align=outside', 'tickpos=left', 'minor tick num=4', 'ylabel style={at={(-0.18,0.5)}}', 'title style={at={(0.5,1)}, yshift=-1ex,anchor=south, align=center}', 'every y tick scale label/.style={at={(yticklabel* cs:1)}, xshift=0.5ex, anchor=south}', 'legend style={nodes={scale=0.7, transform shape}}', 'clip marker paths=true', '/pgf/number format/1000 sep={}']\n",
    ")\n",
    "\n",
    "with open('experiments.tex', 'w') as f:\n",
    "    f.write(tikz\n",
    "            .replace('mark size=1,', 'mark size=0.15,')\n",
    "            .replace(r'{Gamma \\(\\displaystyle \\theta=1,k=1\\)}', r'{Gamma $\\theta=1, k=1$ \\\\ {\\footnotesize (Exponential $\\lambda=1$)}}'))"
   ]
  },
  {
   "cell_type": "markdown",
   "metadata": {},
   "source": [
    "# Table 1\n",
    "\n",
    "The following cell generates Table 1 of the paper, containing the average slope found by the optimal PLA algorithm. The script to generate the raw data is `run_main.sh`, which is the one ran for the previous figure, so there is need to run it again."
   ]
  },
  {
   "cell_type": "code",
   "execution_count": null,
   "metadata": {},
   "outputs": [],
   "source": [
    "out = pd.DataFrame(columns=['Distribution', 'Slope lo', 'Slope hi'])\n",
    "for f, df in dfs:\n",
    "    if not f.startswith(('uniform', 'pareto', 'lognormal', 'exponential', 'gamma')):\n",
    "        continue\n",
    "        \n",
    "    i = 0 if np.isnan(out.index.max()) else out.index.max() + 1\n",
    "    split = \" \".join(f.split('_')[0:3]).capitalize()\n",
    "    out.loc[i] = [label_params(f.split('_')[0:3]), df.opt_lo_avg.mean(), df.opt_hi_avg.mean()]\n",
    "\n",
    "out"
   ]
  },
  {
   "cell_type": "markdown",
   "metadata": {},
   "source": [
    "# Figure 4\n",
    "\n",
    "The following two cells generate Figure 4 of the paper. The script to generate the raw data is `run_assumption_tests.sh`."
   ]
  },
  {
   "cell_type": "code",
   "execution_count": null,
   "metadata": {},
   "outputs": [],
   "source": [
    "filenames = filter(lambda f: f.endswith('.csv') and f.startswith('assum'), os.listdir(path))\n",
    "dfs2 = [(f, pd.read_csv(path + f, comment='#')) for f in filenames]"
   ]
  },
  {
   "cell_type": "code",
   "execution_count": null,
   "metadata": {},
   "outputs": [],
   "source": [
    "sigma_mu_ratios = ['0.15', '1.5', '15']\n",
    "_, axes = plt.subplots(nrows=1, ncols=3, figsize=(17, 4.5))\n",
    "\n",
    "def pick_color(f):\n",
    "    if 'gamma' in f:\n",
    "        return plt.cm.Dark2(4)\n",
    "    if 'lognormal' in f:\n",
    "        return plt.cm.Dark2(6)\n",
    "    if 'uniform' in f:\n",
    "        return plt.cm.Dark2(5)\n",
    "    if 'pareto' in f:\n",
    "        return plt.cm.Dark2(2)\n",
    "\n",
    "for (i, ratio), ax in zip(enumerate(sigma_mu_ratios), axes.flatten()):\n",
    "    dfs_filtered = list(filter(lambda o: o[0].startswith('assum%s_' % ratio), dfs2))\n",
    "    constant = float(ratio) ** -2\n",
    "    \n",
    "    for f, df in dfs_filtered:\n",
    "        theoretical_met = constant * df.epsilon ** 2 \n",
    "        label = label_params(f[:-4].split('_')[1:4])\n",
    "        ax.set_title(r'$\\sigma/\\mu=%s$' % ratio)\n",
    "        ax.plot(df.epsilon, (df.met_avg - theoretical_met) / df.met_avg, '.',  markersize=2, label=label, c=pick_color(f))\n",
    "    \n",
    "    ax.axhline(0, c='k', label=r'$%.3f\\varepsilon^2$' % constant)\n",
    "    if i == 0: ax.set_ylabel('Relative error')\n",
    "    ax.set_xlabel(r'$\\varepsilon$')\n",
    "    ax.legend()\n",
    "    ax.ticklabel_format(style='plain', axis='y', scilimits=(0,0))\n",
    "\n",
    "tikz = tikzplotlib.get_tikz_code(\n",
    "    figurewidth='2.425in',\n",
    "    figureheight='2.13in',\n",
    "    standalone=True,\n",
    "    float_format='{:.4f}',\n",
    "    extra_tikzpicture_parameters=['/pgfplots/group/.cd', 'horizontal sep=25pt', '/pgfplots/.cd', 'legend image post style={mark size=2pt}', 'yticklabel style={/pgf/number format/.cd,fixed,1000 sep={}}'],\n",
    "    extra_axis_parameters=['xtick={0,50,...,250}', 'scaled y ticks = false', 'tick align=outside', 'tickpos=left', 'minor tick num=4', 'ylabel style={at={(-0.20,0.5)}}', 'title style={at={(0.5,1)}, yshift=-1ex,anchor=south, align=center}', 'every y tick scale label/.style={at={(yticklabel* cs:1)}, xshift=0.5ex, anchor=south}', 'legend style={nodes={scale=0.65, transform shape}}', 'clip marker paths=true']\n",
    ")\n",
    "with open('assumptions.tex', 'w') as f:\n",
    "    f.write(tikz.replace('mark size=1,', 'mark size=0.15,'))"
   ]
  },
  {
   "cell_type": "markdown",
   "metadata": {},
   "source": [
    "# Figure 5\n",
    "\n",
    "The following two cells generate Figure 5 of the paper. The script to generate the raw data is `run_segments_count.sh`."
   ]
  },
  {
   "cell_type": "code",
   "execution_count": null,
   "metadata": {},
   "outputs": [],
   "source": [
    "filenames = sorted(filter(lambda f: f.endswith('.csv') and f.startswith('count'), os.listdir(path)), reverse=True)\n",
    "dfs3 = [(f[:-4], pd.read_csv(path + f, comment='#')) for f in filenames]"
   ]
  },
  {
   "cell_type": "code",
   "execution_count": null,
   "metadata": {
    "scrolled": true
   },
   "outputs": [],
   "source": [
    "for i, (f, d) in enumerate(dfs3):\n",
    "    df = pd.concat([d[1:100], d[100::50]])\n",
    "    color = pick_color(f)\n",
    "    met = float(f.split('_')[4][3:])\n",
    "    epsilon = float(f.split('_')[5][7:])\n",
    "    theoretical = 1 / (met * epsilon ** 2)\n",
    "    plt.plot(df.n, df.segments_avg / df.n, c=color, label=label_params(f.split('_')[1:4]))\n",
    "    plt.axhline(y=theoretical, color=color, linestyle='--', linewidth=0.5, label='$\\lambda=%.6f$' % theoretical)\n",
    "    plt.fill_between(df.n, (df.segments_avg + df.segments_std) / df.n, (df.segments_avg - df.segments_std) / df.n, alpha=0.3, facecolor=color)\n",
    "\n",
    "plt.xscale('log')\n",
    "plt.xlabel('$n$')\n",
    "plt.ylabel(r'$(s/n)$')\n",
    "plt.legend(loc='upper right')\n",
    "\n",
    "tikz = tikzplotlib.get_tikz_code(\n",
    "    standalone=True,\n",
    "    figurewidth='234.8775pt',\n",
    "    figureheight='190pt',\n",
    "    float_format='{:.8f}',\n",
    "    extra_tikzpicture_parameters=['/pgfplots/.cd', 'compat=1.3', r'tick scale labels in axis labels/.code={\\pgfkeysgetvalue{/pgfplots/ytick scale label code/.@cmd}\\temp\\pgfkeyslet{/pgfplots/ytick scale label code orig/.@cmd}\\temp\\pgfkeysalso{ytick scale label code/.code={\\gdef\\yTickScale{##1}}, every axis/.append style={tick scale binop={}, ylabel/.add = {}{$\\cdot$\\pgfplotsset{ytick scale label code orig=\\yTickScale}}}}}'],\n",
    "    extra_axis_parameters=['tick scale labels in axis labels', 'tick align=outside', 'tickpos=left', 'minor tick num=4', 'legend style={nodes={scale=0.65, transform shape}}', 'clip marker paths=true']\n",
    ")\n",
    "with open('convergence.tex', 'w') as f:\n",
    "    f.write(tikz)\n",
    "plt.show()"
   ]
  },
  {
   "cell_type": "markdown",
   "metadata": {},
   "source": [
    "# Figure 6\n",
    "\n",
    "The following cell generates Figure 6 of the paper. The script to generate the raw data is `run_real_gaps.sh`."
   ]
  },
  {
   "cell_type": "code",
   "execution_count": null,
   "metadata": {},
   "outputs": [],
   "source": [
    "from scipy.optimize import curve_fit\n",
    "\n",
    "df4 = pd.read_csv('results/real_gaps.csv')\n",
    "\n",
    "def quadratic(x, a, b):\n",
    "    return a * x ** b\n",
    "\n",
    "cm = plt.cm.Paired\n",
    "ci = 2\n",
    "\n",
    "for name in df4.dataset.unique():\n",
    "    df = df4[df4.dataset == name]\n",
    "    name = name.split('_')[0]\n",
    "    (a, b), _ = curve_fit(quadratic, df.epsilon, df.opt_avg)\n",
    "    plt.plot(df.epsilon, df.opt_avg, '.', label='OPT on ' + name, markersize=1, color=cm(ci))\n",
    "    plt.plot(df.epsilon, quadratic(df.epsilon, a, b), '--', color=cm(ci + 1), label=r'Fitted $%.3f \\, \\varepsilon^{%.3f}$ on %s' % (a, b, name))\n",
    "    ci += 2\n",
    "    \n",
    "plt.xlabel('$\\\\varepsilon$')\n",
    "plt.ylabel('Mean segmenth length ')\n",
    "plt.legend(loc='upper left')\n",
    "\n",
    "tikz = tikzplotlib.get_tikz_code(\n",
    "    standalone=True,\n",
    "    figurewidth='234.8775pt',\n",
    "    figureheight='190pt',\n",
    "    float_format='{:.8f}',\n",
    "    extra_tikzpicture_parameters=['/pgfplots/.cd', 'compat=1.3', 'legend image post style={mark size=1.5pt}', r'tick scale labels in axis labels/.code={\\pgfkeysgetvalue{/pgfplots/ytick scale label code/.@cmd}\\temp\\pgfkeyslet{/pgfplots/ytick scale label code orig/.@cmd}\\temp\\pgfkeysalso{ytick scale label code/.code={\\gdef\\yTickScale{##1}}, every axis/.append style={tick scale binop={}, ylabel/.add = {}{$\\,\\cdot$\\pgfplotsset{ytick scale label code orig=\\yTickScale}}}}}'],\n",
    "    extra_axis_parameters=['tick scale labels in axis labels', 'tick align=outside', 'tickpos=left', 'minor tick num=4', 'legend style={nodes={scale=0.65, transform shape}}', 'clip marker paths=true']\n",
    ").replace('mark size=1,', 'mark size=0.15,')\n",
    "with open('real.tex', 'w') as f:\n",
    "    f.write(tikz)\n",
    "plt.show()"
   ]
  },
  {
   "source": [
    "# Figure 7\n",
    "\n",
    "The following cell generates Figure 7 of the paper. The script to generate the raw data is `run_main.sh`, which is the one ran for Figure 3, so there is need to run it again."
   ],
   "cell_type": "markdown",
   "metadata": {}
  },
  {
   "cell_type": "code",
   "execution_count": null,
   "metadata": {},
   "outputs": [],
   "source": [
    "_, axes = plt.subplots(nrows=1, ncols=3, sharex=True, sharey='row', figsize=(17, 4.3))\n",
    "ma_orders = ['5', '50', '500']\n",
    "\n",
    "for i, (ma_order, ax) in enumerate(zip(ma_orders, axes.flatten())):\n",
    "    d = pd.read_csv('results/ma%s.csv' % ma_order, comment='#')\n",
    "    step = 2\n",
    "    x = d.epsilon[::step]\n",
    "\n",
    "    fmt = {'markersize': 1}\n",
    "    ax.plot(x, d.opt_avg[::step], '.C2', **fmt, label='OPT')\n",
    "    ax.plot(x, d.met_avg[::step], '.C3',**fmt, label='MET')\n",
    "\n",
    "    fmt = {'linestyle': (0, (5, 1)), 'alpha': 0.3}\n",
    "    ax.fill_between(x, d.opt_avg[::step]-d.opt_std[::step], d.opt_avg[::step]+d.opt_std[::step], **fmt, facecolor='C2')\n",
    "    ax.fill_between(x, d.met_avg[::step]-d.met_std[::step], d.met_avg[::step]+d.met_std[::step], **fmt, facecolor='C3')\n",
    "\n",
    "    met = 3 * d.epsilon ** 2\n",
    "    ax.plot(x, met[::step], 'k-', label=r'Equation 7', linewidth=0.5)\n",
    "    ax.ticklabel_format(style='plain', axis='y', scilimits=(0,0))\n",
    "    ax.legend(loc='upper left')\n",
    "\n",
    "    if i == 0: ax.set_ylabel('Mean segment length $\\\\cdot 10^6$')\n",
    "    ax.set_xlabel(r'$\\varepsilon$')\n",
    "    ax.set_title(r'$\\ell_0=%s$' % ma_order)\n",
    "\n",
    "tikz = tikzplotlib.get_tikz_code(\n",
    "    figurewidth='2.425in',\n",
    "    figureheight='2.13in',\n",
    "    standalone=True,\n",
    "    float_format='{:.4f}',\n",
    "    extra_tikzpicture_parameters=['/pgfplots/group/.cd', 'xlabels at=edge bottom', 'ylabels at=edge left', 'yticklabels at=edge left', 'vertical sep=36pt', 'horizontal sep=12pt', 'xticklabels at=edge bottom', '/pgfplots/.cd', 'legend image post style={mark size=1.5pt}', 'ytick scale label code/.code={}'],\n",
    "    extra_axis_parameters=['xtick={0,50,...,250}', 'tick align=outside', 'tickpos=left', 'minor tick num=4', 'ylabel style={at={(-0.18,0.5)}}', 'title style={at={(0.5,1)}, yshift=-1ex,anchor=south, align=center}', 'every y tick scale label/.style={at={(yticklabel* cs:1)}, xshift=0.5ex, anchor=south}', 'legend style={nodes={scale=0.7, transform shape}}', 'clip marker paths=true', '/pgf/number format/1000 sep={}']\n",
    ")\n",
    "with open('moving-average.tex', 'w') as f:\n",
    "    f.write(tikz.replace('mark size=1,', 'mark size=0.15,'))"
   ]
  },
  {
   "source": [
    "# Figure 8\n",
    "\n",
    "The following cell generates Figure 8 of the paper. The script to generate the raw data is `run_main.sh`, which is the one ran for Figure 3, so there is need to run it again."
   ],
   "cell_type": "markdown",
   "metadata": {}
  },
  {
   "cell_type": "code",
   "execution_count": null,
   "metadata": {},
   "outputs": [],
   "source": [
    "_, axes = plt.subplots(nrows=1, ncols=3, sharex=True, sharey='row', figsize=(17, 4.3))\n",
    "files = ['ar0.1.csv', 'ar0.6.csv', 'ar0.9.csv']\n",
    "phi_values = ['0.1', '0.5', '0.9']\n",
    "met_consts = [3.0000000000000004, 3, 2.9999999999999996]\n",
    "\n",
    "for i, (phi_value, met_const, ax) in enumerate(zip(phi_values, met_consts, axes.flatten())):\n",
    "    d = pd.read_csv('results/ar%s.csv' % phi_value, comment='#')\n",
    "    step = 2\n",
    "    x = d.epsilon[::step]\n",
    "\n",
    "    fmt = {'markersize': 1}\n",
    "    ax.plot(x, d.opt_avg[::step], '.C2', **fmt, label='OPT')\n",
    "    ax.plot(x, d.met_avg[::step], '.C3',**fmt, label='MET')\n",
    "\n",
    "    fmt = {'linestyle': (0, (5, 1)), 'alpha': 0.3}\n",
    "    ax.fill_between(x, d.opt_avg[::step]-d.opt_std[::step], d.opt_avg[::step]+d.opt_std[::step], **fmt, facecolor='C2')\n",
    "    ax.fill_between(x, d.met_avg[::step]-d.met_std[::step], d.met_avg[::step]+d.met_std[::step], **fmt, facecolor='C3')\n",
    "\n",
    "    met = 3 * d.epsilon ** 2\n",
    "    ax.plot(x, met[::step], 'k-', label=r'Equation 8', linewidth=0.5)\n",
    "    ax.ticklabel_format(style='plain', axis='y', scilimits=(0,0))\n",
    "    ax.legend(loc='upper left')\n",
    "\n",
    "    if i == 0: ax.set_ylabel('Mean segment length $\\\\cdot 10^6$')\n",
    "    ax.set_xlabel(r'$\\varepsilon$')\n",
    "    ax.set_title(r'$\\varphi=%s$' % phi_value)\n",
    "\n",
    "tikz = tikzplotlib.get_tikz_code(\n",
    "    figurewidth='2.425in',\n",
    "    figureheight='2.13in',\n",
    "    standalone=True,\n",
    "    float_format='{:.4f}',\n",
    "    extra_tikzpicture_parameters=['/pgfplots/group/.cd', 'xlabels at=edge bottom', 'ylabels at=edge left', 'yticklabels at=edge left', 'vertical sep=36pt', 'horizontal sep=12pt', 'xticklabels at=edge bottom', '/pgfplots/.cd', 'legend image post style={mark size=1.5pt}', 'ytick scale label code/.code={}'],\n",
    "    extra_axis_parameters=['xtick={0,50,...,250}', 'tick align=outside', 'tickpos=left', 'minor tick num=4', 'ylabel style={at={(-0.18,0.5)}}', 'title style={at={(0.5,1)}, yshift=-1ex,anchor=south, align=center}', 'every y tick scale label/.style={at={(yticklabel* cs:1)}, xshift=0.5ex, anchor=south}', 'legend style={nodes={scale=0.7, transform shape}}', 'clip marker paths=true', '/pgf/number format/1000 sep={}']\n",
    ")\n",
    "with open('autoregressive.tex', 'w') as f:\n",
    "    f.write(tikz.replace('mark size=1,', 'mark size=0.15,'))"
   ]
  },
  {
   "cell_type": "code",
   "execution_count": null,
   "metadata": {},
   "outputs": [],
   "source": []
  }
 ],
 "metadata": {
  "kernelspec": {
   "display_name": "Python 3",
   "language": "python",
   "name": "python3"
  },
  "language_info": {
   "codemirror_mode": {
    "name": "ipython",
    "version": 3
   },
   "file_extension": ".py",
   "mimetype": "text/x-python",
   "name": "python",
   "nbconvert_exporter": "python",
   "pygments_lexer": "ipython3",
   "version": "3.7.7-final"
  }
 },
 "nbformat": 4,
 "nbformat_minor": 2
}